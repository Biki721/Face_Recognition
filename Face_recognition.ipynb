{
 "cells": [
  {
   "cell_type": "markdown",
   "id": "b6e6a700",
   "metadata": {},
   "source": [
    "# Face Recognition"
   ]
  },
  {
   "cell_type": "code",
   "execution_count": null,
   "id": "b26dea84",
   "metadata": {},
   "outputs": [],
   "source": [
    "import cv2\n",
    "import numpy as np\n",
    "import os"
   ]
  },
  {
   "cell_type": "code",
   "execution_count": null,
   "id": "845ae663",
   "metadata": {},
   "outputs": [],
   "source": [
    "size = 4\n",
    "haar_file = 'haarcascade_frontal_face.xml'\n",
    "dataset = 'datasets'\n",
    "print('Training....')"
   ]
  },
  {
   "cell_type": "code",
   "execution_count": null,
   "id": "c9881121",
   "metadata": {},
   "outputs": [],
   "source": [
    "(images, labels, names, id) = ([], [], {}, 0)\n",
    "for subdirs, dirs, files in os.walk(datasets):\n",
    "    for subdir in dirs:\n",
    "        names[id] = subdir\n",
    "        subjectpath = os.path.join(datasets, subdir)\n",
    "        for filename in os.listdir(subjectpath):\n",
    "            path = subjectpath + '/'+ filename\n",
    "            label = id\n",
    "            images.append(cv2.imread(path,0))\n",
    "            labels.append(int(label))\n",
    "        id += 1\n",
    "(width,height) = (130, 100)\n",
    "(images,labels) = [np.array(lis) for lis in [images,labels]]"
   ]
  },
  {
   "cell_type": "code",
   "execution_count": null,
   "id": "3b9dc1ad",
   "metadata": {},
   "outputs": [],
   "source": [
    "model = cv2.face.LBPHFaceRecognizer_create()\n",
    "model.train(images,labels)\n",
    "\n",
    "face_cascade = cv2.CascadeClassifier(haar_file)\n",
    "\n",
    "webcam = cv2.VideoCapture(0)\n",
    "count = 1\n",
    "\n",
    "while True:\n",
    "    _,img = webcam.read()\n",
    "    text = 'No face in the Screen'\n",
    "    gray_img = cv2.cvtColor(img,cv2.COLOR_BGR2GRAY)\n",
    "    faces = face_cascade.detectMultiScale(gray_img,1.3,4)\n",
    "    for (x,y,w,h) in faces:\n",
    "        cv2.rectangle(img,(x,y),(x+w,y+h),(0,255,0),2)\n",
    "        face = gray[y:y + h, x:x + w]\n",
    "        face_resize = cv2.resize(face, (width, height))\n",
    "        \n",
    "        prediction = model.predict(face_resize)\n",
    "        cv2.rectangle(img,(x,y),(x+w,y+h),(0,255,0),3)\n",
    "        if prediction[1]<800:\n",
    "            cv2.putText(img,'%s - %.0f' % (names[prediction[0]],prediction[1]),(x-10,y-10),,cv2.FONT_HERSHEY_SIMPLEX,0.5,(0,0,255),2)\n",
    "            print(names[prediction[0]])\n",
    "            count = 0\n",
    "        else:\n",
    "            count += 1\n",
    "            cv2.putText(img,'unknown',(x-10,y-10),cv2.FONT_HERSHEY_SIMPLEX,0.5,(0,0,255),2)  \n",
    "            if count > 100:\n",
    "                print('unknown person')\n",
    "                cv2.imwrite('input.jpg',img)\n",
    "                count = 0\n",
    "      \n",
    "    cv2.imshow('Face recognition',img)\n",
    "    key = cv2.waitKey(10) \n",
    "    if key == 27:\n",
    "        break\n",
    "cam.release()\n",
    "cv2.destroyAllWindows()"
   ]
  },
  {
   "cell_type": "code",
   "execution_count": null,
   "id": "24da43dc",
   "metadata": {},
   "outputs": [],
   "source": []
  }
 ],
 "metadata": {
  "kernelspec": {
   "display_name": "Python 3",
   "language": "python",
   "name": "python3"
  },
  "language_info": {
   "codemirror_mode": {
    "name": "ipython",
    "version": 3
   },
   "file_extension": ".py",
   "mimetype": "text/x-python",
   "name": "python",
   "nbconvert_exporter": "python",
   "pygments_lexer": "ipython3",
   "version": "3.8.11"
  }
 },
 "nbformat": 4,
 "nbformat_minor": 5
}
