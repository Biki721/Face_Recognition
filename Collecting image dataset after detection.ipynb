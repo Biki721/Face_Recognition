{
 "cells": [
  {
   "cell_type": "markdown",
   "id": "cc0682ed",
   "metadata": {},
   "source": [
    "# Face Detection and Collecting Image in Database"
   ]
  },
  {
   "cell_type": "code",
   "execution_count": 13,
   "id": "8d708418",
   "metadata": {},
   "outputs": [],
   "source": [
    "import cv2\n",
    "import os"
   ]
  },
  {
   "cell_type": "code",
   "execution_count": 14,
   "id": "99e158fb",
   "metadata": {},
   "outputs": [],
   "source": [
    "dataset = 'Dataset'\n",
    "name = 'DetectedFace'\n",
    "path = os.path.join(dataset,name)\n",
    "if not os.path.isdir(path):\n",
    "    os.mkdir(path)"
   ]
  },
  {
   "cell_type": "code",
   "execution_count": 21,
   "id": "e09e798d",
   "metadata": {},
   "outputs": [],
   "source": [
    "alg = 'haarcascade_frontalface_default.xml'\n",
    "haar_cascade = cv2.CascadeClassifier(alg)\n",
    "cam = cv2.VideoCapture(0)\n",
    "count = 1\n",
    "(width,height) = (130,100)\n",
    "while count < 50:\n",
    "    _,img = cam.read()\n",
    "    text = \"No face in the Screen\"\n",
    "    print(count)\n",
    "    gray_img = cv2.cvtColor(img,cv2.COLOR_BGR2GRAY)\n",
    "    face = haar_cascade.detectMultiScale(gray_img,1.3,4)\n",
    "    for (x,y,w,h) in face:\n",
    "        cv2.rectangle(img,(x,y),(x+w,y+h),(0,255,0),2)\n",
    "        text = \"Face Detected\"\n",
    "        face_only = gray_img[y:y+h,x:x+w]\n",
    "        resize_img = cv2.resize(face_only,(width,height))\n",
    "        cv2.imwrite('%s/%s.jpg'%(path,count),resize_img)\n",
    "        count += 1\n",
    "        text = 'Face Detected'\n",
    "    cv2.putText(img,text,(10,20),cv2.FONT_HERSHEY_SIMPLEX,0.8,(255,0,0),2)\n",
    "    cv2.imshow('faceDetection',img)\n",
    "    key = cv2.waitKey(10)\n",
    "    if key == 27:\n",
    "        break\n",
    "print('Image Captured Succesfully')\n",
    "cam.release()\n",
    "cv2.destroyAllWindows()\n",
    "    "
   ]
  },
  {
   "cell_type": "code",
   "execution_count": null,
   "id": "a42df2a9",
   "metadata": {},
   "outputs": [],
   "source": []
  }
 ],
 "metadata": {
  "kernelspec": {
   "display_name": "Python 3",
   "language": "python",
   "name": "python3"
  },
  "language_info": {
   "codemirror_mode": {
    "name": "ipython",
    "version": 3
   },
   "file_extension": ".py",
   "mimetype": "text/x-python",
   "name": "python",
   "nbconvert_exporter": "python",
   "pygments_lexer": "ipython3",
   "version": "3.8.8"
  }
 },
 "nbformat": 4,
 "nbformat_minor": 5
}
